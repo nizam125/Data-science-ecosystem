{
 "cells": [
  {
   "cell_type": "markdown",
   "id": "c10c1bf7",
   "metadata": {},
   "source": [
    "# Data science Tools and Ecosystem"
   ]
  },
  {
   "cell_type": "markdown",
   "id": "1f1f4bf3",
   "metadata": {},
   "source": [
    "In this notebook, Data Science Tools and Ecosystem are summarized."
   ]
  },
  {
   "cell_type": "markdown",
   "id": "fc0128c2",
   "metadata": {},
   "source": [
    "**Objectives:**"
   ]
  },
  {
   "cell_type": "markdown",
   "id": "117d3e43",
   "metadata": {},
   "source": [
    "* some of the data management tools include MySQL, MangoDB etc.\n",
    "* Data integratin tools are Apache kafka, Apache Nife and kuberflow\n",
    "* Data visualisation tools are Hue, Kibana and Apache superset\n",
    "* Code asset management tools are Git, Github etc."
   ]
  },
  {
   "cell_type": "markdown",
   "id": "877c3c75",
   "metadata": {},
   "source": [
    "Some of the popular languages that Data Scientists use are:"
   ]
  },
  {
   "cell_type": "markdown",
   "id": "2ae503ff",
   "metadata": {},
   "source": [
    "1. Python\n",
    "2. R\n",
    "3. Java\n",
    "4. Scala"
   ]
  },
  {
   "cell_type": "markdown",
   "id": "e04486db",
   "metadata": {},
   "source": [
    "Some of the commonly used libraries used by Data Scientists include:"
   ]
  },
  {
   "cell_type": "markdown",
   "id": "c82b6bd8",
   "metadata": {},
   "source": [
    "1. Pandas\n",
    "2. NumPy\n",
    "3. Seaborn\n",
    "4. Matplotlib\n"
   ]
  },
  {
   "cell_type": "markdown",
   "id": "37bc2eb7",
   "metadata": {},
   "source": [
    "| Data science tools |\n",
    "----------------------\n",
    "| MySQL |\n",
    "| PostgreSQL |\n",
    "| MangoDB |"
   ]
  },
  {
   "cell_type": "markdown",
   "id": "c3c9f680",
   "metadata": {},
   "source": [
    "### Below are a few examples of evaluating arithmetic expressions in Python"
   ]
  },
  {
   "cell_type": "markdown",
   "id": "eb490c5e",
   "metadata": {},
   "source": [
    "This a simple arithmetic expression to mutiply then add integers"
   ]
  },
  {
   "cell_type": "code",
   "execution_count": 3,
   "id": "baa218c7",
   "metadata": {},
   "outputs": [
    {
     "data": {
      "text/plain": [
       "17"
      ]
     },
     "execution_count": 3,
     "metadata": {},
     "output_type": "execute_result"
    }
   ],
   "source": [
    "(3*4)+5"
   ]
  },
  {
   "cell_type": "markdown",
   "id": "61d29440",
   "metadata": {},
   "source": [
    "This will convert 200 minutes to hours by diving by 60"
   ]
  },
  {
   "cell_type": "code",
   "execution_count": 4,
   "id": "311a87d2",
   "metadata": {},
   "outputs": [
    {
     "data": {
      "text/plain": [
       "3.3333333333333335"
      ]
     },
     "execution_count": 4,
     "metadata": {},
     "output_type": "execute_result"
    }
   ],
   "source": [
    "200/60"
   ]
  },
  {
   "cell_type": "markdown",
   "id": "c3e23942",
   "metadata": {},
   "source": [
    "## Author"
   ]
  },
  {
   "cell_type": "markdown",
   "id": "322df358",
   "metadata": {},
   "source": [
    "NIZAM K C"
   ]
  },
  {
   "cell_type": "code",
   "execution_count": null,
   "id": "5f4d8dfb",
   "metadata": {},
   "outputs": [],
   "source": []
  }
 ],
 "metadata": {
  "kernelspec": {
   "display_name": "Python 3 (ipykernel)",
   "language": "python",
   "name": "python3"
  },
  "language_info": {
   "codemirror_mode": {
    "name": "ipython",
    "version": 3
   },
   "file_extension": ".py",
   "mimetype": "text/x-python",
   "name": "python",
   "nbconvert_exporter": "python",
   "pygments_lexer": "ipython3",
   "version": "3.11.5"
  }
 },
 "nbformat": 4,
 "nbformat_minor": 5
}
